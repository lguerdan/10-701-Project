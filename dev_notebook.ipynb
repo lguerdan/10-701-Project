{
 "cells": [
  {
   "cell_type": "code",
   "execution_count": 1,
   "id": "a18b64f5",
   "metadata": {},
   "outputs": [
    {
     "name": "stderr",
     "output_type": "stream",
     "text": [
      "/Users/lguerdan/.virtualenvs/10701-Project/lib/python3.9/site-packages/tqdm/auto.py:22: TqdmWarning: IProgress not found. Please update jupyter and ipywidgets. See https://ipywidgets.readthedocs.io/en/stable/user_install.html\n",
      "  from .autonotebook import tqdm as notebook_tqdm\n"
     ]
    }
   ],
   "source": [
    "from train import *\n",
    "from data.utils import *\n",
    "DEVICE = torch.device(\"cpu\")"
   ]
  },
  {
   "cell_type": "code",
   "execution_count": 2,
   "id": "bdfc1d27",
   "metadata": {},
   "outputs": [
    {
     "name": "stdout",
     "output_type": "stream",
     "text": [
      "Files already downloaded and verified\n",
      "Files already downloaded and verified\n",
      "Training 10 epoch(s) w/ 1563 batches each.\n"
     ]
    },
    {
     "name": "stderr",
     "output_type": "stream",
     "text": [
      "Epoch 0: Training...: 100%|███████████████████████████████████| 1563/1563 [00:19<00:00, 78.97it/s]\n",
      "Epoch 1: Training...: 100%|███████████████████████████████████| 1563/1563 [00:19<00:00, 78.40it/s]\n",
      "Epoch 2: Training...: 100%|███████████████████████████████████| 1563/1563 [00:20<00:00, 77.76it/s]\n",
      "Epoch 3: Training...: 100%|███████████████████████████████████| 1563/1563 [00:20<00:00, 77.76it/s]\n",
      "Epoch 4: Training...: 100%|███████████████████████████████████| 1563/1563 [00:20<00:00, 78.12it/s]\n",
      "Epoch 5: Training...: 100%|███████████████████████████████████| 1563/1563 [00:22<00:00, 70.87it/s]\n",
      "Epoch 6: Training...: 100%|███████████████████████████████████| 1563/1563 [00:20<00:00, 77.52it/s]\n",
      "Epoch 7: Training...: 100%|███████████████████████████████████| 1563/1563 [00:20<00:00, 78.02it/s]\n",
      "Epoch 8: Training...: 100%|███████████████████████████████████| 1563/1563 [00:20<00:00, 77.83it/s]\n",
      "Epoch 9: Training...: 100%|███████████████████████████████████| 1563/1563 [00:19<00:00, 79.42it/s]\n",
      "Testing...: 100%|██████████████████████████████████████████████| 313/313 [00:02<00:00, 106.63it/s]\n"
     ]
    }
   ],
   "source": [
    "trainset_cifar, testset_cifar = load_data(dataset='cifar')\n",
    "trainloader_cifar = torch.utils.data.DataLoader(dataset=trainset_cifar, batch_size=32, shuffle=True)  \n",
    "testloader_cifar  = torch.utils.data.DataLoader(dataset=testset_cifar,  batch_size=32, shuffle=False)\n",
    "\n",
    "model = load_model(dataset='cifar')\n",
    "train_results = train(\n",
    "    model, trainloader_cifar, device=DEVICE, n_epochs=10)\n",
    "\n",
    "test_results = test(\n",
    "    model, testloader_cifar, device=DEVICE\n",
    ")\n"
   ]
  }
 ],
 "metadata": {
  "kernelspec": {
   "display_name": "10701-Project",
   "language": "python",
   "name": "10701-project"
  },
  "language_info": {
   "codemirror_mode": {
    "name": "ipython",
    "version": 3
   },
   "file_extension": ".py",
   "mimetype": "text/x-python",
   "name": "python",
   "nbconvert_exporter": "python",
   "pygments_lexer": "ipython3",
   "version": "3.9.8"
  }
 },
 "nbformat": 4,
 "nbformat_minor": 5
}
