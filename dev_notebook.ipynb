{
 "cells": [
  {
   "cell_type": "code",
   "execution_count": 1,
   "id": "a18b64f5",
   "metadata": {},
   "outputs": [
    {
     "name": "stderr",
     "output_type": "stream",
     "text": [
      "/Users/lguerdan/.virtualenvs/10701-Project/lib/python3.9/site-packages/tqdm/auto.py:22: TqdmWarning: IProgress not found. Please update jupyter and ipywidgets. See https://ipywidgets.readthedocs.io/en/stable/user_install.html\n",
      "  from .autonotebook import tqdm as notebook_tqdm\n"
     ]
    }
   ],
   "source": [
    "import torch\n",
    "from train import *\n",
    "from data.utils import *\n",
    "DEVICE = torch.device(\"cpu\")"
   ]
  },
  {
   "cell_type": "code",
   "execution_count": null,
   "id": "bdfc1d27",
   "metadata": {
    "scrolled": true
   },
   "outputs": [
    {
     "name": "stdout",
     "output_type": "stream",
     "text": [
      "Files already downloaded and verified\n",
      "Files already downloaded and verified\n",
      "Training 10 epoch(s) w/ 50000 batches each.\n"
     ]
    },
    {
     "name": "stderr",
     "output_type": "stream",
     "text": [
      "Epoch 0: Training...: 100%|███████████████████████████████████████████████████████████████████████████| 50000/50000 [03:37<00:00, 229.70it/s]\n",
      "Epoch 1: Training...:  50%|█████████████████████████████████████▏                                     | 24829/50000 [01:50<01:48, 232.72it/s]"
     ]
    }
   ],
   "source": [
    "trainset_cifar, testset_cifar = load_data(dataset='cifar')\n",
    "trainloader_cifar = torch.utils.data.DataLoader(dataset=trainset_cifar, batch_size=1, shuffle=True)  \n",
    "testloader_cifar  = torch.utils.data.DataLoader(dataset=testset_cifar,  batch_size=1, shuffle=False)\n",
    "\n",
    "\n",
    "params = {\n",
    "    'lr': 0.001,\n",
    "    'dp': True,\n",
    "    'C': .02, \n",
    "    'sigma': .1\n",
    "}\n",
    "\n",
    "model = load_model(dataset='cifar')\n",
    "train_results = train(\n",
    "    model, trainloader_cifar, device=DEVICE, n_epochs=10, opt_params=params\n",
    ")\n",
    "\n",
    "test_results = test(\n",
    "    model, testloader_cifar, device=DEVICE\n",
    ")\n"
   ]
  },
  {
   "cell_type": "code",
   "execution_count": null,
   "id": "d4492c34",
   "metadata": {},
   "outputs": [],
   "source": []
  }
 ],
 "metadata": {
  "kernelspec": {
   "display_name": "10701-Project",
   "language": "python",
   "name": "10701-project"
  },
  "language_info": {
   "codemirror_mode": {
    "name": "ipython",
    "version": 3
   },
   "file_extension": ".py",
   "mimetype": "text/x-python",
   "name": "python",
   "nbconvert_exporter": "python",
   "pygments_lexer": "ipython3",
   "version": "3.9.8"
  }
 },
 "nbformat": 4,
 "nbformat_minor": 5
}
