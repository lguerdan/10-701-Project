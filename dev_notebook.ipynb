{
 "cells": [
  {
   "cell_type": "code",
   "execution_count": 1,
   "id": "a18b64f5",
   "metadata": {},
   "outputs": [
    {
     "name": "stderr",
     "output_type": "stream",
     "text": [
      "/Users/lguerdan/.virtualenvs/10701-Project/lib/python3.9/site-packages/tqdm/auto.py:22: TqdmWarning: IProgress not found. Please update jupyter and ipywidgets. See https://ipywidgets.readthedocs.io/en/stable/user_install.html\n",
      "  from .autonotebook import tqdm as notebook_tqdm\n"
     ]
    }
   ],
   "source": [
    "# Uncomment following lines if you are running on Google Colab\n",
    "# Drive and folder directory may need to be changed\n",
    "# from google.colab import drive\n",
    "# drive.mount('/content/drive')\n",
    "# %ls /content/drive/MyDrive\n",
    "# %cd /content/drive/MyDrive/10-701-Project\n",
    "# %pip install tensorboardX\n",
    "from train import *\n",
    "import helpers\n",
    "import copy, glob"
   ]
  },
  {
   "cell_type": "markdown",
   "id": "2dbe1e3a",
   "metadata": {},
   "source": [
    "## Running a specific experiment configuration "
   ]
  },
  {
   "cell_type": "code",
   "execution_count": null,
   "id": "94c892d2",
   "metadata": {},
   "outputs": [],
   "source": [
    "params = {\n",
    "    'lr': 0.05,\n",
    "    'dp': True,\n",
    "    'clipping': 'Linear',\n",
    "    'num_microbatches': 32,\n",
    "    'batch_size': 32,\n",
    "    'S': 1,\n",
    "    'z': 1.1,\n",
    "    'gamma': 0.5,\n",
    "    'lr_c': 0.2,\n",
    "    'momentum': 0.5,\n",
    "    'decay': 0,\n",
    "    'n_epochs' : 20,\n",
    "}\n",
    "\n",
    "run_exp('run_a', params, use_devset=True)"
   ]
  },
  {
   "cell_type": "markdown",
   "id": "e50beba5",
   "metadata": {},
   "source": [
    "## Fetching experiment results for a specific run"
   ]
  },
  {
   "cell_type": "code",
   "execution_count": 3,
   "id": "9521910d",
   "metadata": {
    "scrolled": true
   },
   "outputs": [
    {
     "name": "stdout",
     "output_type": "stream",
     "text": [
      "    epoch  train_loss  train_acc  test_loss  test_acc          S benchmark\n",
      "0       0    0.072107   0.150000   0.071337  0.187500   1.910356     MNIST\n",
      "1       1    0.069953   0.203125   0.068583  0.225000   3.005155     MNIST\n",
      "2       2    0.072045   0.206250   0.064360  0.318750   3.901567     MNIST\n",
      "3       3    0.083438   0.171875   0.070177  0.250000   5.042642     MNIST\n",
      "4       4    0.109837   0.203125   0.072383  0.296875   6.022641     MNIST\n",
      "5       5    0.142996   0.234375   0.088982  0.328125   6.731986     MNIST\n",
      "6       6    0.260834   0.215625   0.148658  0.268750   7.586905     MNIST\n",
      "7       7    0.406733   0.159375   0.225349  0.262500   8.478212     MNIST\n",
      "8       8    0.639525   0.168750   0.343715  0.278125   9.271784     MNIST\n",
      "9       9    1.008178   0.153125   0.553400  0.175000  10.029288     MNIST\n",
      "10     10    1.254200   0.137500   0.642695  0.206250  10.838228     MNIST\n",
      "11     11    1.873032   0.143750   0.922771  0.137500  11.583774     MNIST\n",
      "12     12    2.471715   0.121875   1.208214  0.209375  12.322022     MNIST\n",
      "13     13    3.392016   0.134375   1.933163  0.146875  13.173368     MNIST\n",
      "14     14    4.848338   0.159375   1.923422  0.271875  13.795132     MNIST\n",
      "15     15    6.108238   0.109375   3.507544  0.193750  14.651349     MNIST\n",
      "16     16    6.758489   0.175000   3.461549  0.287500  15.286028     MNIST\n",
      "17     17    8.596535   0.165625   4.860035  0.187500  15.985340     MNIST\n",
      "18     18   11.053860   0.140625   6.561404  0.131250  16.713285     MNIST\n",
      "19     19   12.893661   0.143750   5.468022  0.284375  17.542984     MNIST\n",
      "0       0    0.071887   0.128125   0.071837  0.109375   2.104015     CIFAR\n",
      "1       1    0.071696   0.121875   0.071810  0.084375   1.075614     CIFAR\n",
      "2       2    0.071487   0.168750   0.071699  0.115625   2.020887     CIFAR\n",
      "3       3    0.071232   0.137500   0.071708  0.109375   1.577818     CIFAR\n",
      "4       4    0.070948   0.125000   0.071581  0.109375   2.506056     CIFAR\n",
      "5       5    0.070483   0.150000   0.070726  0.162500   2.879950     CIFAR\n",
      "6       6    0.069492   0.228125   0.070301  0.171875   3.841174     CIFAR\n",
      "7       7    0.068560   0.231250   0.070073  0.162500   4.794786     CIFAR\n",
      "8       8    0.068087   0.228125   0.068179  0.228125   5.551629     CIFAR\n",
      "9       9    0.068226   0.246875   0.069194  0.196875   6.470262     CIFAR\n",
      "10     10    0.071166   0.243750   0.070690  0.237500   7.535440     CIFAR\n",
      "11     11    0.076587   0.225000   0.081185  0.184375   8.495192     CIFAR\n",
      "12     12    0.090469   0.168750   0.107644  0.165625   9.627730     CIFAR\n",
      "13     13    0.115489   0.175000   0.160875  0.100000  10.542559     CIFAR\n",
      "14     14    0.175520   0.140625   0.239050  0.134375  11.452394     CIFAR\n",
      "15     15    0.199509   0.181250   0.230624  0.109375  12.466170     CIFAR\n",
      "16     16    0.180191   0.131250   0.151086  0.115625  13.351911     CIFAR\n",
      "17     17    0.134857   0.128125   0.169144  0.084375  14.074995     CIFAR\n",
      "18     18    0.113956   0.093750   0.102082  0.087500  14.272356     CIFAR\n",
      "19     19    0.106874   0.140625   0.115512  0.103125  13.829103     CIFAR\n",
      "{'lr': 0.05, 'dp': True, 'clipping': 'Linear', 'num_microbatches': 32, 'batch_size': 32, 'S': 1, 'z': 1.1, 'gamma': 0.5, 'lr_c': 0.2, 'momentum': 0.5, 'decay': 0, 'n_epochs': 20}\n"
     ]
    }
   ],
   "source": [
    "run, params = helpers.load_run('centralized_baseline')\n",
    "print(run)\n",
    "print(params)"
   ]
  }
 ],
 "metadata": {
  "kernelspec": {
   "display_name": "10701-Project",
   "language": "python",
   "name": "10701-project"
  },
  "language_info": {
   "codemirror_mode": {
    "name": "ipython",
    "version": 3
   },
   "file_extension": ".py",
   "mimetype": "text/x-python",
   "name": "python",
   "nbconvert_exporter": "python",
   "pygments_lexer": "ipython3",
   "version": "3.9.8"
  }
 },
 "nbformat": 4,
 "nbformat_minor": 5
}