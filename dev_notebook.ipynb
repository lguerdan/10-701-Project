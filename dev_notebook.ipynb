{
 "cells": [
  {
   "cell_type": "code",
   "execution_count": null,
   "id": "a18b64f5",
   "metadata": {},
   "outputs": [],
   "source": [
    "# Uncomment following lines if you are running on Google Colab\n",
    "# Drive and folder directory may need to be changed\n",
    "# from google.colab import drive\n",
    "# drive.mount('/content/drive')\n",
    "# %ls /content/drive/MyDrive\n",
    "# %cd /content/drive/MyDrive/10-701-Project\n",
    "# %pip install tensorboardX\n",
    "from train import *\n",
    "import helpers\n",
    "import copy, glob\n",
    "from plots import *\n",
    "\n",
    "#Plotting\n",
    "from matplotlib import pyplot as plt\n",
    "import seaborn as sns\n",
    "sns.set_style(\"whitegrid\")\n",
    "FIGDIR = 'fig/'"
   ]
  },
  {
   "cell_type": "markdown",
   "id": "2dbe1e3a",
   "metadata": {},
   "source": [
    "## Running a specific experiment configuration "
   ]
  },
  {
   "cell_type": "code",
   "execution_count": null,
   "id": "94c892d2",
   "metadata": {
    "scrolled": true
   },
   "outputs": [],
   "source": [
    "params = {\n",
    "    'lr': 0.05,\n",
    "    'dp': True,\n",
    "    'clipping': 'Linear',\n",
    "    'num_microbatches': 32,\n",
    "    'batch_size': 32,\n",
    "    'S': 1,\n",
    "    'z': 1.1,\n",
    "    'gamma': 0.5,\n",
    "    'lr_c': 0.2,\n",
    "    'momentum': 0.5,\n",
    "    'decay': 0,\n",
    "    'n_epochs' : 20,\n",
    "}\n",
    "\n",
    "run_exp('run_a', params, use_devset=True)"
   ]
  },
  {
   "cell_type": "markdown",
   "id": "e50beba5",
   "metadata": {},
   "source": [
    "## Fetch experiment results over all runs and plot"
   ]
  },
  {
   "cell_type": "markdown",
   "id": "76d83333",
   "metadata": {},
   "source": [
    "### Experiment 1 "
   ]
  },
  {
   "cell_type": "code",
   "execution_count": null,
   "id": "bc5c71e4",
   "metadata": {},
   "outputs": [],
   "source": [
    "exp, params = helpers.load_exp('central_baseline_fixed')\n",
    "exp['epoch'] = exp['epoch'] + 1\n",
    "plot_centralized_fixed_cuttoff_experiment(exp)"
   ]
  },
  {
   "cell_type": "markdown",
   "id": "686980df",
   "metadata": {},
   "source": [
    "### Experiment 2"
   ]
  },
  {
   "cell_type": "code",
   "execution_count": null,
   "id": "bc8ff24a",
   "metadata": {},
   "outputs": [],
   "source": [
    "exp, params= helpers.load_exp('central_baseline_adaptive_cuttoff')\n",
    "plot_centralized_adaptive_cuttoff_experiment(exp)"
   ]
  }
 ],
 "metadata": {
  "kernelspec": {
   "display_name": "10701-Project",
   "language": "python",
   "name": "10701-project"
  },
  "language_info": {
   "codemirror_mode": {
    "name": "ipython",
    "version": 3
   },
   "file_extension": ".py",
   "mimetype": "text/x-python",
   "name": "python",
   "nbconvert_exporter": "python",
   "pygments_lexer": "ipython3",
   "version": "3.9.8"
  }
 },
 "nbformat": 4,
 "nbformat_minor": 5
}
