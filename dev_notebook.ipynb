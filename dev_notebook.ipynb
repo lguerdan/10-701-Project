{
 "cells": [
  {
   "cell_type": "code",
   "execution_count": 1,
   "id": "a18b64f5",
   "metadata": {},
   "outputs": [
    {
     "name": "stderr",
     "output_type": "stream",
     "text": [
      "/Users/lguerdan/.virtualenvs/10701-Project/lib/python3.9/site-packages/tqdm/auto.py:22: TqdmWarning: IProgress not found. Please update jupyter and ipywidgets. See https://ipywidgets.readthedocs.io/en/stable/user_install.html\n",
      "  from .autonotebook import tqdm as notebook_tqdm\n"
     ]
    }
   ],
   "source": [
    "import pandas as pd\n",
    "from train import *"
   ]
  },
  {
   "cell_type": "code",
   "execution_count": null,
   "id": "94c892d2",
   "metadata": {},
   "outputs": [],
   "source": [
    "params = {\n",
    "    'lr': 0.05,\n",
    "    'dp': True,\n",
    "    'num_microbatches': 32,\n",
    "    'batch_size': 32,\n",
    "    'S': 1,\n",
    "    'z': 1.1,\n",
    "    'momentum': 0.5,\n",
    "    'decay': 0,\n",
    "    'n_epochs' : 3,\n",
    "}\n",
    "\n",
    "run_exp('run_a', params, use_devset=True)"
   ]
  },
  {
   "cell_type": "code",
   "execution_count": 2,
   "id": "9521910d",
   "metadata": {},
   "outputs": [],
   "source": [
    "run, params = helpers.load_exp('run_a')"
   ]
  },
  {
   "cell_type": "code",
   "execution_count": 5,
   "id": "f76d3ea3",
   "metadata": {},
   "outputs": [
    {
     "data": {
      "text/plain": [
       "<AxesSubplot:>"
      ]
     },
     "execution_count": 5,
     "metadata": {},
     "output_type": "execute_result"
    },
    {
     "data": {
      "image/png": "[encoded data removed]",
      "text/plain": [
       "<Figure size 432x288 with 1 Axes>"
      ]
     },
     "metadata": {
      "needs_background": "light"
     },
     "output_type": "display_data"
    }
   ],
   "source": [
    "mnist = run[run['benchmark'] == 'MNIST']\n",
    "\n",
    "[['train_acc', 'test_acc']].plot()\n",
    "\n",
    "sns.lineplot(data=mnist, x='epoch')"
   ]
  },
  {
   "cell_type": "code",
   "execution_count": null,
   "id": "ab4e857c",
   "metadata": {
    "scrolled": true
   },
   "outputs": [],
   "source": [
    "# trainset_mnist, testset_mnist = load_data(dataset='mnist')\n",
    "# trainloader_mnist = torch.utils.data.DataLoader(dataset=trainset_mnist, batch_size=32, shuffle=True, drop_last=True)\n",
    "# testloader_mnist  = torch.utils.data.DataLoader(dataset=testset_mnist,  batch_size=32, shuffle=False, drop_last=True)\n",
    "\n",
    "\n",
    "params = {\n",
    "    'lr': 0.05,\n",
    "    'dp': True,\n",
    "    'num_microbatches': 32,\n",
    "    'batch_size': 32,\n",
    "    'S': 1,\n",
    "    'z': 1.1,\n",
    "    'momentum': 0.5,\n",
    "    'decay': 0,\n",
    "    'n_epochs' : 3,\n",
    "}\n",
    "\n",
    "trainset_cifar, testset_cifar = load_data(dataset='mnist', devset=True)\n",
    "trainloader_cifar = torch.utils.data.DataLoader(dataset=trainset_cifar, batch_size=params['batch_size'], shuffle=True, drop_last=True)\n",
    "testloader_cifar  = torch.utils.data.DataLoader(dataset=testset_cifar,  batch_size=params['batch_size'], shuffle=False, drop_last=True)\n",
    "\n",
    "model = load_model(dataset='mnist')\n",
    "train(exp_name='test_runs_5', model=model, trainloader=trainloader_cifar, testloader=testloader_cifar, device=DEVICE, opt_params=params)\n",
    "\n",
    "\n"
   ]
  },
  {
   "cell_type": "code",
   "execution_count": null,
   "id": "8031e912",
   "metadata": {},
   "outputs": [],
   "source": []
  },
  {
   "cell_type": "code",
   "execution_count": null,
   "id": "aefe8780",
   "metadata": {},
   "outputs": [],
   "source": []
  },
  {
   "cell_type": "code",
   "execution_count": null,
   "id": "9e0f7a16",
   "metadata": {},
   "outputs": [],
   "source": [
    "\n"
   ]
  }
 ],
 "metadata": {
  "kernelspec": {
   "display_name": "10701-Project",
   "language": "python",
   "name": "10701-project"
  },
  "language_info": {
   "codemirror_mode": {
    "name": "ipython",
    "version": 3
   },
   "file_extension": ".py",
   "mimetype": "text/x-python",
   "name": "python",
   "nbconvert_exporter": "python",
   "pygments_lexer": "ipython3",
   "version": "3.9.8"
  }
 },
 "nbformat": 4,
 "nbformat_minor": 5
}
