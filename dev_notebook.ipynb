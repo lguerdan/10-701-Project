{
 "cells": [
  {
   "cell_type": "code",
   "execution_count": 1,
   "id": "a18b64f5",
   "metadata": {},
   "outputs": [],
   "source": [
    "import torch\n",
    "from train import *\n",
    "from data.utils import *\n",
    "from continuum import ClassIncremental\n",
    "from continuum.tasks import split_train_val\n",
    "DEVICE = torch.device(\"cpu\")"
   ]
  },
  {
   "cell_type": "code",
   "execution_count": null,
   "outputs": [],
   "source": [
    "# trainset_cifar, testset_cifar = load_data(dataset='cifar')\n",
    "# trainloader_cifar = torch.utils.data.DataLoader(dataset=trainset_cifar, batch_size=1, shuffle=True)\n",
    "# testloader_cifar  = torch.utils.data.DataLoader(dataset=testset_cifar,  batch_size=1, shuffle=False)\n",
    "\n",
    "trainset_mnist, testset_mnist = load_data(dataset='mnist')\n",
    "trainloader_mnist = torch.utils.data.DataLoader(dataset=trainset_mnist, batch_size=1, shuffle=True)\n",
    "testloader_mnist  = torch.utils.data.DataLoader(dataset=testset_mnist,  batch_size=1, shuffle=False)\n",
    "\n",
    "params = {\n",
    "    'lr': 0.001,\n",
    "    'dp': True,\n",
    "    'C': .02,\n",
    "    'sigma': .1\n",
    "    'increment': 5\n",
    "}\n",
    "\n",
    "\n",
    "for learning in ['central', 'single', 'multi']:\n",
    "    if learning == 'central':\n",
    "        trainloader = torch.utils.data.DataLoader(\n",
    "            dataset=trainset_mnist, batch_size=params['batch_size'], shuffle=True, drop_last=True)\n",
    "\n",
    "        testloader = torch.utils.data.DataLoader(\n",
    "            dataset=testset_mnist, batch_size=params['batch_size'], shuffle=False, drop_last=True)\n",
    "        model = load_model(dataset='mnist')\n",
    "        train_results = train( model=model, trainloader=trainloader,\n",
    "              device=DEVICE, opt_params=params)\n",
    "        test_results = test(model, testloader_mnist, device=DEVICE)\n",
    "\n",
    "    else:\n",
    "        # Incremental Learning(Changing params will change how many classes at a time to learn\n",
    "        scenario = ClassIncremental(trainset_mnist, increment=(1 if learning == 'single' else params['increment']))\n",
    "        print(f\"Number of classes: {scenario.nb_classes}.\")\n",
    "        print(f\"Number of tasks: {scenario.nb_tasks}.\")\n",
    "        for task_id, train_taskset in enumerate(scenario):\n",
    "            train_taskset, val_taskset = split_train_val(train_taskset, val_split=0)\n",
    "            trainloader = torch.utils.data.DataLoader(dataset=train_taskset, batch_size=params['batch_size'],\n",
    "                                                      shuffle=True, drop_last=True)\n",
    "            model = load_model(dataset='mnist')\n",
    "            train_results = train( model=model, trainloader=trainloader,\n",
    "                   device=DEVICE, opt_params=params)\n",
    "            test_results = test(model, testloader_mnist, device=DEVICE)\n",
    "\n",
    "\n",
    "\n"
   ],
   "metadata": {
    "collapsed": false,
    "pycharm": {
     "name": "#%%\n",
     "is_executing": true
    }
   }
  }
 ],
 "metadata": {
  "kernelspec": {
   "display_name": "Python 3 (ipykernel)",
   "language": "python",
   "name": "python3"
  },
  "language_info": {
   "codemirror_mode": {
    "name": "ipython",
    "version": 3
   },
   "file_extension": ".py",
   "mimetype": "text/x-python",
   "name": "python",
   "nbconvert_exporter": "python",
   "pygments_lexer": "ipython3",
   "version": "3.9.10"
  }
 },
 "nbformat": 4,
 "nbformat_minor": 5
}