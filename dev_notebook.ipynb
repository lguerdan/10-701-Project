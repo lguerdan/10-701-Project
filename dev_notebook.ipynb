{
 "cells": [
  {
   "cell_type": "code",
   "execution_count": 1,
   "id": "a18b64f5",
   "metadata": {},
   "outputs": [
    {
     "name": "stderr",
     "output_type": "stream",
     "text": [
      "/Users/lguerdan/.virtualenvs/10701-Project/lib/python3.9/site-packages/tqdm/auto.py:22: TqdmWarning: IProgress not found. Please update jupyter and ipywidgets. See https://ipywidgets.readthedocs.io/en/stable/user_install.html\n",
      "  from .autonotebook import tqdm as notebook_tqdm\n"
     ]
    }
   ],
   "source": [
    "from train import *\n",
    "import helpers"
   ]
  },
  {
   "cell_type": "markdown",
   "id": "2dbe1e3a",
   "metadata": {},
   "source": [
    "## Running an experiment "
   ]
  },
  {
   "cell_type": "code",
   "execution_count": null,
   "id": "94c892d2",
   "metadata": {},
   "outputs": [],
   "source": [
    "params = {\n",
    "    'lr': 0.05,\n",
    "    'dp': True,\n",
    "    'num_microbatches': 32,\n",
    "    'batch_size': 32,\n",
    "    'S': 1,\n",
    "    'z': 1.1,\n",
    "    'momentum': 0.5,\n",
    "    'decay': 0,\n",
    "    'n_epochs' : 3,\n",
    "}\n",
    "\n",
    "run_exp('run_a', params, use_devset=True)"
   ]
  },
  {
   "cell_type": "markdown",
   "id": "e50beba5",
   "metadata": {},
   "source": [
    "## Fetching experiment results"
   ]
  },
  {
   "cell_type": "code",
   "execution_count": 2,
   "id": "9521910d",
   "metadata": {},
   "outputs": [],
   "source": [
    "run, params = helpers.load_exp('run_a')"
   ]
  }
 ],
 "metadata": {
  "kernelspec": {
   "display_name": "10701-Project",
   "language": "python",
   "name": "10701-project"
  },
  "language_info": {
   "codemirror_mode": {
    "name": "ipython",
    "version": 3
   },
   "file_extension": ".py",
   "mimetype": "text/x-python",
   "name": "python",
   "nbconvert_exporter": "python",
   "pygments_lexer": "ipython3",
   "version": "3.9.8"
  }
 },
 "nbformat": 4,
 "nbformat_minor": 5
}
